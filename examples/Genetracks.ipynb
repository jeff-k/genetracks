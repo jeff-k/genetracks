{
 "cells": [
  {
   "cell_type": "markdown",
   "metadata": {},
   "source": [
    "# Vectorized sequence alignment diagrams"
   ]
  },
  {
   "cell_type": "code",
   "execution_count": 1,
   "metadata": {
    "ExecuteTime": {
     "end_time": "2023-07-18T23:42:53.883255337Z",
     "start_time": "2023-07-18T23:42:53.866093429Z"
    }
   },
   "outputs": [
    {
     "name": "stdout",
     "output_type": "stream",
     "text": [
      "3.11.4 (main, Jun  9 2023, 07:59:55) [GCC 12.3.0]\n"
     ]
    }
   ],
   "source": [
    "import sys\n",
    "print(sys.version)"
   ]
  },
  {
   "cell_type": "code",
   "execution_count": 2,
   "metadata": {
    "ExecuteTime": {
     "end_time": "2023-07-18T23:42:53.883255337Z",
     "start_time": "2023-07-18T23:42:53.866093429Z"
    }
   },
   "outputs": [],
   "source": [
    "from genetracks import Figure, Track, Alignment, Multitrack, Label"
   ]
  },
  {
   "cell_type": "code",
   "execution_count": 3,
   "metadata": {
    "ExecuteTime": {
     "end_time": "2023-07-18T23:42:53.884400604Z",
     "start_time": "2023-07-18T23:42:53.872393883Z"
    }
   },
   "outputs": [
    {
     "data": {
      "image/svg+xml": [
       "<?xml version=\"1.0\" encoding=\"UTF-8\"?>\n",
       "<svg xmlns=\"http://www.w3.org/2000/svg\" xmlns:xlink=\"http://www.w3.org/1999/xlink\"\n",
       "     width=\"410.0\" height=\"45.0\" viewBox=\"0.0 -45.0 410.0 45.0\">\n",
       "<defs>\n",
       "</defs>\n",
       "<g transform=\"translate(0.0 -30.0)\">\n",
       "<rect x=\"50.0\" y=\"-10\" width=\"250.0\" height=\"10\" fill=\"lightgrey\" stroke=\"lightgrey\" />\n",
       "<path d=\"M300.0,0 L305.0,-5.0 L300.0,-10\" fill=\"lightgrey\" stroke=\"lightgrey\" />\n",
       "<rect x=\"50.0\" y=\"-10\" width=\"50.0\" height=\"10\" fill=\"lightblue\" stroke=\"lightblue\" />\n",
       "<g transform=\"translate(175.0 0.0)\">\n",
       "<text x=\"0\" y=\"0\" font-size=\"10\" font-family=\"monospace\" text-anchor=\"middle\">Another sequence</text>\n",
       "</g>\n",
       "</g>\n",
       "<g transform=\"translate(0.0 -10.0)\">\n",
       "<rect x=\"110.0\" y=\"-10\" width=\"300.0\" height=\"10\" fill=\"lightgrey\" stroke=\"lightgrey\" />\n",
       "<path d=\"M110.0,0 L105.0,-5.0 L110.0,-10\" fill=\"lightgrey\" stroke=\"lightgrey\" />\n",
       "<rect x=\"150.0\" y=\"-10\" width=\"50.0\" height=\"10\" fill=\"salmon\" stroke=\"salmon\" />\n",
       "<g transform=\"translate(260.0 0.0)\">\n",
       "<text x=\"0\" y=\"0\" font-size=\"10\" font-family=\"monospace\" text-anchor=\"middle\">Sequence 1</text>\n",
       "</g>\n",
       "</g>\n",
       "</svg>"
      ],
      "text/plain": [
       "<drawsvg.drawing.Drawing at 0x7fc93d5f3dd0>"
      ]
     },
     "execution_count": 3,
     "metadata": {},
     "output_type": "execute_result"
    }
   ],
   "source": [
    "f = Figure()\n",
    "t1 = Track(50, 300, direction='f', label=\"Another sequence\", regions=[(50, 100, 'lightblue')])\n",
    "t2 = Track(110, 410, direction='r', label=\"Sequence 1\", regions=[(150, 200, 'salmon')])\n",
    "f.add(t1)\n",
    "f.add(t2)\n",
    "f.show()"
   ]
  },
  {
   "cell_type": "markdown",
   "metadata": {},
   "source": [
    "## Linear tracks\n",
    "\n",
    "### Multitracks\n",
    "In this example we pack multiple tracks onto the same row and join them to illustrate gaps. The child tracks inherit the parent's translations."
   ]
  },
  {
   "cell_type": "code",
   "execution_count": 4,
   "metadata": {
    "ExecuteTime": {
     "end_time": "2023-07-18T23:42:53.918296167Z",
     "start_time": "2023-07-18T23:42:53.879691288Z"
    }
   },
   "outputs": [
    {
     "data": {
      "image/svg+xml": [
       "<?xml version=\"1.0\" encoding=\"UTF-8\"?>\n",
       "<svg xmlns=\"http://www.w3.org/2000/svg\" xmlns:xlink=\"http://www.w3.org/1999/xlink\"\n",
       "     width=\"500.0\" height=\"65.0\" viewBox=\"0.0 -65.0 500.0 65.0\">\n",
       "<defs>\n",
       "</defs>\n",
       "<g transform=\"translate(0.0 -50.0)\">\n",
       "<path d=\"M0.0,-5.0 L300.0,-5.0\" stroke=\"lightgrey\" />\n",
       "<g transform=\"translate(0.0 0.0)\">\n",
       "<rect x=\"0.0\" y=\"-10\" width=\"150.0\" height=\"10\" fill=\"lightgrey\" stroke=\"lightgrey\" />\n",
       "<path d=\"M150.0,0 L155.0,-5.0 L150.0,-10\" fill=\"lightgrey\" stroke=\"lightgrey\" />\n",
       "<g transform=\"translate(75.0 0.0)\">\n",
       "<text x=\"0\" y=\"0\" font-size=\"10\" font-family=\"monospace\" text-anchor=\"middle\">Read 1, forward</text>\n",
       "</g>\n",
       "</g>\n",
       "<g transform=\"translate(0.0 0.0)\">\n",
       "<rect x=\"300.0\" y=\"-10\" width=\"150.0\" height=\"10\" fill=\"lightgrey\" stroke=\"lightgrey\" />\n",
       "<path d=\"M300.0,0 L295.0,-5.0 L300.0,-10\" fill=\"lightgrey\" stroke=\"lightgrey\" />\n",
       "<g transform=\"translate(375.0 0.0)\">\n",
       "<text x=\"0\" y=\"0\" font-size=\"10\" font-family=\"monospace\" text-anchor=\"middle\">Read 1, reverse</text>\n",
       "</g>\n",
       "</g>\n",
       "</g>\n",
       "<g transform=\"translate(0.0 -30.0)\">\n",
       "<path d=\"M30.0,-5.0 L325.0,-5.0\" stroke=\"lightgrey\" />\n",
       "<g transform=\"translate(0.0 0.0)\">\n",
       "<rect x=\"30.0\" y=\"-10\" width=\"150.0\" height=\"10\" fill=\"lightgrey\" stroke=\"lightgrey\" />\n",
       "<path d=\"M180.0,0 L185.0,-5.0 L180.0,-10\" fill=\"lightgrey\" stroke=\"lightgrey\" />\n",
       "<g transform=\"translate(105.0 0.0)\">\n",
       "<text x=\"0\" y=\"0\" font-size=\"10\" font-family=\"monospace\" text-anchor=\"middle\">Read 2, forward</text>\n",
       "</g>\n",
       "</g>\n",
       "<g transform=\"translate(0.0 0.0)\">\n",
       "<rect x=\"325.0\" y=\"-10\" width=\"150.0\" height=\"10\" fill=\"lightgrey\" stroke=\"lightgrey\" />\n",
       "<path d=\"M325.0,0 L320.0,-5.0 L325.0,-10\" fill=\"lightgrey\" stroke=\"lightgrey\" />\n",
       "<g transform=\"translate(400.0 0.0)\">\n",
       "<text x=\"0\" y=\"0\" font-size=\"10\" font-family=\"monospace\" text-anchor=\"middle\">Read 2, reverse</text>\n",
       "</g>\n",
       "</g>\n",
       "</g>\n",
       "<g transform=\"translate(0.0 -10.0)\">\n",
       "<path d=\"M60.0,-5.0 L350.0,-5.0\" stroke=\"lightgrey\" />\n",
       "<g transform=\"translate(0.0 0.0)\">\n",
       "<rect x=\"60.0\" y=\"-10\" width=\"150.0\" height=\"10\" fill=\"lightgrey\" stroke=\"lightgrey\" />\n",
       "<path d=\"M210.0,0 L215.0,-5.0 L210.0,-10\" fill=\"lightgrey\" stroke=\"lightgrey\" />\n",
       "<g transform=\"translate(135.0 0.0)\">\n",
       "<text x=\"0\" y=\"0\" font-size=\"10\" font-family=\"monospace\" text-anchor=\"middle\">Read 3, forward</text>\n",
       "</g>\n",
       "</g>\n",
       "<g transform=\"translate(0.0 0.0)\">\n",
       "<rect x=\"350.0\" y=\"-10\" width=\"150.0\" height=\"10\" fill=\"lightgrey\" stroke=\"lightgrey\" />\n",
       "<path d=\"M350.0,0 L345.0,-5.0 L350.0,-10\" fill=\"lightgrey\" stroke=\"lightgrey\" />\n",
       "<g transform=\"translate(425.0 0.0)\">\n",
       "<text x=\"0\" y=\"0\" font-size=\"10\" font-family=\"monospace\" text-anchor=\"middle\">Read 3, reverse</text>\n",
       "</g>\n",
       "</g>\n",
       "</g>\n",
       "</svg>"
      ],
      "text/plain": [
       "<drawsvg.drawing.Drawing at 0x7fc93c49ef50>"
      ]
     },
     "execution_count": 4,
     "metadata": {},
     "output_type": "execute_result"
    }
   ],
   "source": [
    "f = Figure()\n",
    "for i in range(0,3):\n",
    "    o = i * 30\n",
    "    e = i * 25\n",
    "    f.add(Multitrack([\n",
    "        Track(o, 150 + o, direction='f', label='Read {}, forward'.format(i + 1)),\n",
    "        Track(300 + e, 450 + e, direction='r', label='Read {}, reverse'.format(i + 1))], join=True))\n",
    "f.show()"
   ]
  },
  {
   "cell_type": "markdown",
   "metadata": {},
   "source": [
    "### Directionality\n",
    "Tracks can be rendered with arrows indicating strand direction."
   ]
  },
  {
   "cell_type": "code",
   "execution_count": 5,
   "metadata": {
    "ExecuteTime": {
     "end_time": "2023-07-18T23:42:53.918891057Z",
     "start_time": "2023-07-18T23:42:53.911621618Z"
    }
   },
   "outputs": [
    {
     "data": {
      "image/svg+xml": [
       "<?xml version=\"1.0\" encoding=\"UTF-8\"?>\n",
       "<svg xmlns=\"http://www.w3.org/2000/svg\" xmlns:xlink=\"http://www.w3.org/1999/xlink\"\n",
       "     width=\"350.0\" height=\"65.0\" viewBox=\"0.0 -65.0 350.0 65.0\">\n",
       "<defs>\n",
       "</defs>\n",
       "<g transform=\"translate(0.0 -50.0)\">\n",
       "<path d=\"M0.0,-5.0 L200.0,-5.0\" stroke=\"lightgrey\" />\n",
       "<g transform=\"translate(0.0 0.0)\">\n",
       "<rect x=\"0.0\" y=\"-10\" width=\"150.0\" height=\"10\" fill=\"lightgrey\" stroke=\"lightgrey\" />\n",
       "<path d=\"M150.0,0 L155.0,-5.0 L150.0,-10\" fill=\"lightgrey\" stroke=\"lightgrey\" />\n",
       "<g transform=\"translate(75.0 0.0)\">\n",
       "<text x=\"0\" y=\"0\" font-size=\"10\" font-family=\"monospace\" text-anchor=\"middle\">Forward read</text>\n",
       "</g>\n",
       "</g>\n",
       "<g transform=\"translate(0.0 0.0)\">\n",
       "<rect x=\"200.0\" y=\"-10\" width=\"150.0\" height=\"10\" fill=\"lightgrey\" stroke=\"lightgrey\" />\n",
       "<path d=\"M200.0,0 L195.0,-5.0 L200.0,-10\" fill=\"lightgrey\" stroke=\"lightgrey\" />\n",
       "<g transform=\"translate(275.0 0.0)\">\n",
       "<text x=\"0\" y=\"0\" font-size=\"10\" font-family=\"monospace\" text-anchor=\"middle\">Reverse read</text>\n",
       "</g>\n",
       "</g>\n",
       "</g>\n",
       "<g transform=\"translate(0.0 -30.0)\">\n",
       "<rect x=\"50.0\" y=\"-10\" width=\"200.0\" height=\"10\" fill=\"salmon\" stroke=\"salmon\" />\n",
       "<path d=\"M250.0,0 L255.0,-5.0 L250.0,-10\" fill=\"salmon\" stroke=\"salmon\" />\n",
       "<path d=\"M50.0,0 L45.0,-5.0 L50.0,-10\" fill=\"salmon\" stroke=\"salmon\" />\n",
       "<rect x=\"75.0\" y=\"-10\" width=\"150.0\" height=\"10\" fill=\"lightgrey\" stroke=\"lightgrey\" />\n",
       "<g transform=\"translate(150.0 0.0)\">\n",
       "<text x=\"0\" y=\"0\" font-size=\"10\" font-family=\"monospace\" text-anchor=\"middle\">Read-through</text>\n",
       "</g>\n",
       "</g>\n",
       "<g transform=\"translate(0.0 -10.0)\">\n",
       "<rect x=\"50.0\" y=\"-10\" width=\"250.0\" height=\"10\" fill=\"lightgrey\" stroke=\"lightgrey\" />\n",
       "<g transform=\"translate(175.0 0.0)\">\n",
       "<text x=\"0\" y=\"0\" font-size=\"10\" font-family=\"monospace\" text-anchor=\"middle\">Reads overlap</text>\n",
       "</g>\n",
       "</g>\n",
       "</svg>"
      ],
      "text/plain": [
       "<drawsvg.drawing.Drawing at 0x7fc93c48aa50>"
      ]
     },
     "execution_count": 5,
     "metadata": {},
     "output_type": "execute_result"
    }
   ],
   "source": [
    "figure = Figure()\n",
    "figure.add(Multitrack([\n",
    "        Track(0, 150, direction='f', label='Forward read'),\n",
    "        Track(200, 350, direction='r', label='Reverse read')], join=True))\n",
    "figure.add(Track(50, 250, direction='fr', label='Read-through', color='salmon', regions=[(75, 225, 'lightgrey')]))\n",
    "figure.add(Track(50, 300, label='Reads overlap'))\n",
    "figure.show()"
   ]
  },
  {
   "cell_type": "markdown",
   "metadata": {},
   "source": [
    "The `Alignment` class allows us to illustrate the relationship between regions of two different tracks:"
   ]
  },
  {
   "cell_type": "markdown",
   "metadata": {},
   "source": [
    "### Alignment\n",
    "Regions between two tracts can be illustrated with an `Alignment`."
   ]
  },
  {
   "cell_type": "code",
   "execution_count": 6,
   "metadata": {
    "ExecuteTime": {
     "end_time": "2023-07-18T23:42:53.919044924Z",
     "start_time": "2023-07-18T23:42:53.911750803Z"
    }
   },
   "outputs": [
    {
     "data": {
      "image/svg+xml": [
       "<?xml version=\"1.0\" encoding=\"UTF-8\"?>\n",
       "<svg xmlns=\"http://www.w3.org/2000/svg\" xmlns:xlink=\"http://www.w3.org/1999/xlink\"\n",
       "     width=\"365.0\" height=\"65.0\" viewBox=\"0.0 -65.0 365.0 65.0\">\n",
       "<defs>\n",
       "</defs>\n",
       "<g transform=\"translate(0.0 -40.0)\">\n",
       "<g transform=\"translate(0.0 0.0)\">\n",
       "<rect x=\"50.0\" y=\"-10\" width=\"260.0\" height=\"10\" fill=\"lightgrey\" stroke=\"lightgrey\" />\n",
       "<path d=\"M50.0,0 L45.0,-5.0 L50.0,-10\" fill=\"lightgrey\" stroke=\"lightgrey\" />\n",
       "<rect x=\"110.0\" y=\"-10\" width=\"190.0\" height=\"10\" fill=\"lightblue\" stroke=\"lightblue\" />\n",
       "</g>\n",
       "<g transform=\"translate(0.0 40.0)\">\n",
       "<rect x=\"100.0\" y=\"-10\" width=\"260.0\" height=\"10\" fill=\"lightgrey\" stroke=\"lightgrey\" />\n",
       "<path d=\"M360.0,0 L365.0,-5.0 L360.0,-10\" fill=\"lightgrey\" stroke=\"lightgrey\" />\n",
       "<rect x=\"110.0\" y=\"-10\" width=\"190.0\" height=\"10\" fill=\"salmon\" stroke=\"salmon\" />\n",
       "</g>\n",
       "<path d=\"M110.0,0 L300.0,30\" stroke=\"black\" />\n",
       "<path d=\"M110.0,-10 L110.0,0\" stroke=\"black\" />\n",
       "<path d=\"M300.0,30 L300.0,40\" stroke=\"black\" />\n",
       "<path d=\"M300.0,0 L110.0,30\" stroke=\"black\" />\n",
       "<path d=\"M300.0,-10 L300.0,0\" stroke=\"black\" />\n",
       "<path d=\"M110.0,30 L110.0,40\" stroke=\"black\" />\n",
       "</g>\n",
       "</svg>"
      ],
      "text/plain": [
       "<drawsvg.drawing.Drawing at 0x7fc93c49ec90>"
      ]
     },
     "execution_count": 6,
     "metadata": {},
     "output_type": "execute_result"
    }
   ],
   "source": [
    "f = Figure()\n",
    "f.add(Alignment(Track(50, 310, direction='r', regions=[(110, 300, 'lightblue')]),\n",
    "                Track(100, 360, direction='f', regions=[(110, 300, 'salmon')]),\n",
    "               [(110, 300), (300, 110)]))\n",
    "f.show()"
   ]
  },
  {
   "cell_type": "markdown",
   "metadata": {},
   "source": [
    "### Label Objects\n",
    "Label offsets and text size can be adjusted to make informative tracks."
   ]
  },
  {
   "cell_type": "code",
   "execution_count": 7,
   "metadata": {
    "ExecuteTime": {
     "end_time": "2023-07-18T23:42:53.919182746Z",
     "start_time": "2023-07-18T23:42:53.911809826Z"
    }
   },
   "outputs": [
    {
     "data": {
      "image/svg+xml": [
       "<?xml version=\"1.0\" encoding=\"UTF-8\"?>\n",
       "<svg xmlns=\"http://www.w3.org/2000/svg\" xmlns:xlink=\"http://www.w3.org/1999/xlink\"\n",
       "     width=\"900.0\" height=\"35.0\" viewBox=\"0.0 -35.0 900.0 35.0\">\n",
       "<defs>\n",
       "</defs>\n",
       "<g transform=\"translate(0.0 -20.0)\">\n",
       "<g transform=\"translate(0.0 0.0)\">\n",
       "<rect x=\"0.0\" y=\"-10\" width=\"58.709743800802556\" height=\"10\" fill=\"darkgrey\" stroke=\"darkgrey\" />\n",
       "<g transform=\"translate(29.354871900401278 0.0)\">\n",
       "<text x=\"0\" y=\"-1\" font-size=\"10\" font-family=\"monospace\" text-anchor=\"middle\">5' LTR</text>\n",
       "</g>\n",
       "</g>\n",
       "<g transform=\"translate(0.0 0.0)\">\n",
       "<rect x=\"73.15567445210414\" y=\"-10\" width=\"139.08838357855745\" height=\"10\" fill=\"lightblue\" stroke=\"lightblue\" />\n",
       "<g transform=\"translate(142.69986624138286 0.0)\">\n",
       "<text x=\"0\" y=\"-1\" font-size=\"10\" font-family=\"monospace\" text-anchor=\"middle\">gag</text>\n",
       "</g>\n",
       "</g>\n",
       "<g transform=\"translate(0.0 0.0)\">\n",
       "<rect x=\"466.80728470007205\" y=\"-10\" width=\"53.52402510546358\" height=\"10\" fill=\"steelblue\" stroke=\"steelblue\" />\n",
       "<g transform=\"translate(493.56929725280384 0.0)\">\n",
       "<text x=\"0\" y=\"-1\" font-size=\"10\" font-family=\"monospace\" text-anchor=\"middle\">vif</text>\n",
       "</g>\n",
       "</g>\n",
       "<g transform=\"translate(0.0 0.0)\">\n",
       "<rect x=\"775.9131597901019\" y=\"-10\" width=\"8.334190760366369\" height=\"10\" fill=\"plum\" stroke=\"plum\" />\n",
       "<g transform=\"translate(780.080255170285 0.0)\">\n",
       "<text x=\"0\" y=\"-1\" font-size=\"10\" font-family=\"monospace\" text-anchor=\"middle\">tat</text>\n",
       "</g>\n",
       "</g>\n",
       "<g transform=\"translate(0.0 0.0)\">\n",
       "<rect x=\"814.6208457660254\" y=\"-10\" width=\"57.41331412696775\" height=\"10\" fill=\"mediumaquamarine\" stroke=\"mediumaquamarine\" />\n",
       "<g transform=\"translate(843.3275028295093 0.0)\">\n",
       "<text x=\"0\" y=\"-1\" font-size=\"10\" font-family=\"monospace\" text-anchor=\"middle\">nef</text>\n",
       "</g>\n",
       "</g>\n",
       "</g>\n",
       "<g transform=\"translate(0.0 -10.0)\">\n",
       "<g transform=\"translate(0.0 0.0)\">\n",
       "<rect x=\"539.9629591521762\" y=\"-10\" width=\"19.816853585759873\" height=\"10\" fill=\"plum\" stroke=\"plum\" />\n",
       "<g transform=\"translate(549.8713859450561 0.0)\">\n",
       "<text x=\"0\" y=\"-1\" font-size=\"10\" font-family=\"monospace\" text-anchor=\"middle\">tat</text>\n",
       "</g>\n",
       "</g>\n",
       "<g transform=\"translate(0.0 0.0)\">\n",
       "<rect x=\"561.3540487704497\" y=\"-10\" width=\"22.965325650787122\" height=\"10\" fill=\"red\" stroke=\"red\" />\n",
       "<g transform=\"translate(572.8367115958433 0.0)\">\n",
       "<text x=\"0\" y=\"-1\" font-size=\"10\" font-family=\"monospace\" text-anchor=\"middle\">vpu</text>\n",
       "</g>\n",
       "</g>\n",
       "<g transform=\"translate(0.0 0.0)\">\n",
       "<rect x=\"775.9131597901019\" y=\"-10\" width=\"25.37298075933745\" height=\"10\" fill=\"yellowgreen\" stroke=\"yellowgreen\" />\n",
       "<g transform=\"translate(788.5996501697706 0.0)\">\n",
       "<text x=\"0\" y=\"-1\" font-size=\"10\" font-family=\"monospace\" text-anchor=\"middle\">rev</text>\n",
       "</g>\n",
       "</g>\n",
       "<g transform=\"translate(0.0 0.0)\">\n",
       "<rect x=\"841.3828583187571\" y=\"-10\" width=\"58.617141681242856\" height=\"10\" fill=\"darkgrey\" stroke=\"darkgrey\" />\n",
       "<g transform=\"translate(870.6914291593786 0.0)\">\n",
       "<text x=\"0\" y=\"-1\" font-size=\"10\" font-family=\"monospace\" text-anchor=\"middle\">3' LTR</text>\n",
       "</g>\n",
       "</g>\n",
       "</g>\n",
       "<g transform=\"translate(0.0 0.0)\">\n",
       "<g transform=\"translate(0.0 0.0)\">\n",
       "<rect x=\"193.07541928181914\" y=\"-10\" width=\"278.8249819940323\" height=\"10\" fill=\"orange\" stroke=\"orange\" />\n",
       "<g transform=\"translate(332.4879102788353 0.0)\">\n",
       "<text x=\"0\" y=\"-1\" font-size=\"10\" font-family=\"monospace\" text-anchor=\"middle\">pol</text>\n",
       "</g>\n",
       "</g>\n",
       "<g transform=\"translate(0.0 0.0)\">\n",
       "<rect x=\"514.775182631958\" y=\"-10\" width=\"26.94721679185102\" height=\"10\" fill=\"turquoise\" stroke=\"turquoise\" />\n",
       "<g transform=\"translate(528.2487910278835 0.0)\">\n",
       "<text x=\"0\" y=\"-1\" font-size=\"10\" font-family=\"monospace\" text-anchor=\"middle\">vpr</text>\n",
       "</g>\n",
       "</g>\n",
       "<g transform=\"translate(0.0 0.0)\">\n",
       "<rect x=\"552.8346537709641\" y=\"-10\" width=\"6.945158966971917\" height=\"10\" fill=\"yellowgreen\" stroke=\"yellowgreen\" />\n",
       "<g transform=\"translate(556.30723325445 0.0)\">\n",
       "<text x=\"0\" y=\"-1\" font-size=\"10\" font-family=\"monospace\" text-anchor=\"middle\">rev</text>\n",
       "</g>\n",
       "</g>\n",
       "<g transform=\"translate(0.0 0.0)\">\n",
       "<rect x=\"576.4481942586687\" y=\"-10\" width=\"237.98744726823747\" height=\"10\" fill=\"salmon\" stroke=\"salmon\" />\n",
       "<g transform=\"translate(695.4419178927874 0.0)\">\n",
       "<text x=\"0\" y=\"-1\" font-size=\"10\" font-family=\"monospace\" text-anchor=\"middle\">env</text>\n",
       "</g>\n",
       "</g>\n",
       "</g>\n",
       "</svg>"
      ],
      "text/plain": [
       "<drawsvg.drawing.Drawing at 0x7fc93c4d0950>"
      ]
     },
     "execution_count": 7,
     "metadata": {},
     "output_type": "execute_result"
    }
   ],
   "source": [
    "f = Figure()\n",
    "\n",
    "def draw_hiv_genes(f):\n",
    "    third = [\n",
    "        (2085, 5096, \"pol\", \"orange\"),\n",
    "        (5559, 5850, \"vpr\", \"turquoise\"),\n",
    "        (5970, 6045, \"rev\", 'yellowgreen'),\n",
    "        (6225, 8795, \"env\", 'salmon'),\n",
    "    ]\n",
    "    second = [\n",
    "        (5831, 6045, \"tat\", \"plum\"),\n",
    "        (6062, 6310, \"vpu\", \"red\"),\n",
    "        (8379, 8653, \"rev\", 'yellowgreen'),\n",
    "        (9086, 9719, \"3' LTR\", 'darkgrey'),\n",
    "    ]\n",
    "\n",
    "    first = [\n",
    "        (0, 634, \"5' LTR\", \"darkgrey\"),\n",
    "        (790, 2292, \"gag\", \"lightblue\"),\n",
    "        (5041, 5619, \"vif\", 'steelblue'),\n",
    "        (8379, 8469, \"tat\", 'plum'),\n",
    "        (8797, 9417, \"nef\", 'mediumaquamarine'),\n",
    "    ]\n",
    "\n",
    "    for reading_frame in [first, second, third]:\n",
    "        f.add(Multitrack([Track(l, r, label=Label(0, text, offset=1), color=color)\n",
    "                          for l, r, text, color in reading_frame]), gap=0)\n",
    "\n",
    "draw_hiv_genes(f)\n",
    "f.show(w=900)"
   ]
  }
 ],
 "metadata": {
  "kernelspec": {
   "display_name": "Python 3 (ipykernel)",
   "language": "python",
   "name": "python3"
  },
  "language_info": {
   "codemirror_mode": {
    "name": "ipython",
    "version": 3
   },
   "file_extension": ".py",
   "mimetype": "text/x-python",
   "name": "python",
   "nbconvert_exporter": "python",
   "pygments_lexer": "ipython3",
   "version": "3.11.4"
  }
 },
 "nbformat": 4,
 "nbformat_minor": 4
}
